{
  "nbformat": 4,
  "nbformat_minor": 0,
  "metadata": {
    "colab": {
      "provenance": [],
      "authorship_tag": "ABX9TyMDcnxK4WQAcYf2XhkLluuf",
      "include_colab_link": true
    },
    "kernelspec": {
      "name": "python3",
      "display_name": "Python 3"
    },
    "language_info": {
      "name": "python"
    }
  },
  "cells": [
    {
      "cell_type": "markdown",
      "metadata": {
        "id": "view-in-github",
        "colab_type": "text"
      },
      "source": [
        "<a href=\"https://colab.research.google.com/github/priyacoding/password-Generator-free/blob/main/password_generator.ipynb\" target=\"_parent\"><img src=\"https://colab.research.google.com/assets/colab-badge.svg\" alt=\"Open In Colab\"/></a>"
      ]
    },
    {
      "cell_type": "code",
      "execution_count": 1,
      "metadata": {
        "colab": {
          "base_uri": "https://localhost:8080/"
        },
        "id": "eDRcW7_g6_kI",
        "outputId": "da4ff377-4f83-40e4-9f48-aca8787c53f0"
      },
      "outputs": [
        {
          "output_type": "stream",
          "name": "stdout",
          "text": [
            "Welcome to the pythonPassword Generator\n",
            "How many letters would you like in your password: 8\n",
            "How many symbols would you like: 6\n",
            "How many numbers would you like: 3\n",
            "1q2&$3M*KOe)+$tFH"
          ]
        }
      ],
      "source": [
        "import random\n",
        "\n",
        "letters = ['a', 'b', 'c', 'd', 'e', 'f', 'g', 'h', 'i', 'j', 'k', 'l', 'm', 'n', 'o', 'p', 'q', 'r', 's', 't', 'u', 'v', 'w', 'x', 'y', 'z', 'A', 'B', 'C', 'D', 'E', 'F', 'G', 'H', 'I', 'J', 'K', 'L', 'M', 'N', 'O', 'P', 'Q', 'R', 'S', 'T', 'U', 'V', 'W', 'X', 'Y', 'Z']\n",
        "numbers = ['0', '1', '2', '3', '4', '5', '6', '7', '8', '9']\n",
        "symbols = ['!', '#', '$', '%', '&', '(', ')', '*', '+']\n",
        "print(\"Welcome to the pythonPassword Generator\")\n",
        "aletters = int(input(\"How many letters would you like in your password: \"))\n",
        "bsymbols = int(input(\"How many symbols would you like: \"))\n",
        "cnumbers = int(input(\"How many numbers would you like: \"))\n",
        "password =[]\n",
        "for i in range(1,aletters+1):\n",
        "    password.append(random.choice(letters))\n",
        "#     print(b,end=\"\")\n",
        "for j in range(1,cnumbers+1):\n",
        "    password.append(random.choice(numbers))\n",
        "#     print(a,end=\"\")\n",
        "for k in range(1,bsymbols+1):\n",
        "    password.append(random.choice(symbols))\n",
        "#     print(a,end=\"\")\n",
        "random.shuffle(password)\n",
        "password_string =\"\"\n",
        "for l in password:\n",
        "    print(l,end = \"\")"
      ]
    }
  ]
}